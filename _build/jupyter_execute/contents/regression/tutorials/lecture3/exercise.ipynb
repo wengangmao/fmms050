{
 "cells": [
  {
   "cell_type": "markdown",
   "id": "c05ea82b-495a-4ae7-aaf8-e72bc1023f2c",
   "metadata": {},
   "source": [
    "# **Exercises for Lecure 3**"
   ]
  },
  {
   "cell_type": "markdown",
   "id": "623063da-ca3c-4b05-825a-32eb4890deb8",
   "metadata": {},
   "source": [
    "## ***Part I: below is another direct way for polynominal regression***\n",
    ">\n",
    ">- Your task is to use the Sklearn to repeat the polynominal regression \n",
    ">- Secondly, you should try to use Spline regression to fit the model and compare them\n",
    ">- Write a short report to demonstrate your results\n",
    ">"
   ]
  },
  {
   "cell_type": "code",
   "execution_count": null,
   "id": "62e51084-20b3-4cee-8443-6cb1f523acfb",
   "metadata": {},
   "outputs": [],
   "source": [
    "import numpy as np\n",
    "import matplotlib.pyplot as plt\n",
    "\n",
    "\n",
    "# load the data\n",
    "X = []\n",
    "Y = []\n",
    "for line in open('data_poly.csv'):\n",
    "    x, y = line.split(',')\n",
    "    x = float(x)\n",
    "    X.append([1, x, x*x]) # add the bias term x0 = 1\n",
    "    # our model is therefore y_hat = w0 + w1 * x + w2 * x**2\n",
    "    Y.append(float(y))\n",
    "\n",
    "# let's turn X and Y into numpy arrays since that will be useful later\n",
    "X = np.array(X)\n",
    "Y = np.array(Y)\n",
    "\n",
    "# let's plot the data to see what it looks like\n",
    "plt.scatter(X[:,1], Y)\n",
    "plt.title(\"The data we're trying to fit\")\n",
    "plt.show()\n",
    "\n",
    "\n",
    "# apply the equations we learned to calculate a and b\n",
    "# numpy has a special method for solving Ax = b\n",
    "# so we don't use x = inv(A)*b\n",
    "# note: the * operator does element-by-element multiplication in numpy\n",
    "#       np.dot() does what we expect for matrix multiplication\n",
    "w = np.linalg.solve(np.dot(X.T, X), np.dot(X.T, Y))\n",
    "\n",
    "\n",
    "# let's plot everything together to make sure it worked\n",
    "plt.scatter(X[:,1], Y)\n",
    "\n",
    "# to plot our quadratic model predictions, let's\n",
    "# create a line of x's and calculate the predicted y's\n",
    "x_line = np.linspace(X[:,1].min(), X[:,1].max())\n",
    "y_line = w[0] + w[1] * x_line + w[2] * x_line * x_line\n",
    "plt.plot(x_line, y_line)\n",
    "plt.title(\"Our fitted quadratic\")\n",
    "plt.show()\n",
    "\n",
    "\n",
    "# determine how good the model is by computing the r-squared\n",
    "Yhat = X.dot(w)\n",
    "d1 = Y - Yhat\n",
    "d2 = Y - Y.mean()\n",
    "r2 = 1 - d1.dot(d1) / d2.dot(d2)\n",
    "print(\"the r-squared is:\", r2)\n"
   ]
  }
 ],
 "metadata": {
  "kernelspec": {
   "display_name": "Python 3 (ipykernel)",
   "language": "python",
   "name": "python3"
  },
  "language_info": {
   "codemirror_mode": {
    "name": "ipython",
    "version": 3
   },
   "file_extension": ".py",
   "mimetype": "text/x-python",
   "name": "python",
   "nbconvert_exporter": "python",
   "pygments_lexer": "ipython3",
   "version": "3.8.8"
  },
  "widgets": {
   "application/vnd.jupyter.widget-state+json": {
    "state": {},
    "version_major": 2,
    "version_minor": 0
   }
  }
 },
 "nbformat": 4,
 "nbformat_minor": 5
}