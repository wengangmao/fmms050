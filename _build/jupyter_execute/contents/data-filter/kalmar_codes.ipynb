{
 "cells": [
  {
   "cell_type": "markdown",
   "id": "703c9962-4c31-4c63-8387-25e12844fdab",
   "metadata": {},
   "source": [
    "# Example codes to solve the tutorial problems\n",
    "But you are supposed to first try to find the solutions and write the code by yourself."
   ]
  },
  {
   "cell_type": "markdown",
   "id": "acc95976-246b-4b77-91f3-295b2fd0deaa",
   "metadata": {},
   "source": [
    "### Some useful package for implementing kalmar fitler methods"
   ]
  }
 ],
 "metadata": {
  "kernelspec": {
   "display_name": "Python 3",
   "language": "python",
   "name": "python3"
  },
  "language_info": {
   "codemirror_mode": {
    "name": "ipython",
    "version": 3
   },
   "file_extension": ".py",
   "mimetype": "text/x-python",
   "name": "python",
   "nbconvert_exporter": "python",
   "pygments_lexer": "ipython3",
   "version": "3.8.8"
  }
 },
 "nbformat": 4,
 "nbformat_minor": 5
}